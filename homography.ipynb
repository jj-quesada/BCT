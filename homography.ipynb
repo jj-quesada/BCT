{
 "cells": [
  {
   "cell_type": "markdown",
   "metadata": {},
   "source": [
    "<h3>Librerías, paquetes y funciones usadas en el cuaderno</h3>"
   ]
  },
  {
   "cell_type": "code",
   "execution_count": null,
   "metadata": {},
   "outputs": [],
   "source": [
    "import cv2\n",
    "import numpy as np"
   ]
  },
  {
   "cell_type": "markdown",
   "metadata": {},
   "source": [
    "<h3>Función para la obtención del color del parqué y de la zona</h3>"
   ]
  },
  {
   "cell_type": "code",
   "execution_count": 1,
   "metadata": {},
   "outputs": [],
   "source": [
    "# Función para manejar los clics del ratón\n",
    "def get_color(event, x, y, flags, param):\n",
    "    global selected_colors\n",
    "    if event == cv2.EVENT_LBUTTONDOWN:\n",
    "        selected_color = frame[y, x]  # Obtener el color en el punto clicado\n",
    "        selected_colors.append(selected_color)\n",
    "        print(f\"Color seleccionado (BGR): {selected_color}\")\n",
    "        if len(selected_colors) == 2:  # Si ya se seleccionaron dos colores, cerrar la ventana\n",
    "            cv2.destroyWindow(\"Selecciona un punto del parqué y un punto de la zona.\")"
   ]
  },
  {
   "cell_type": "markdown",
   "metadata": {},
   "source": [
    "<h3>Selección de colores del parqué y de la zona para generar una máscara</h3>"
   ]
  },
  {
   "cell_type": "code",
   "execution_count": null,
   "metadata": {},
   "outputs": [],
   "source": [
    "# Leer el video\n",
    "video_path = \"./assets/videos/okc-nyk.mp4\"\n",
    "cap = cv2.VideoCapture(video_path)\n",
    "\n",
    "# Variables globales para almacenar los colores seleccionados\n",
    "selected_colors = []\n",
    "\n",
    "ret, frame = cap.read()  # Leer el primer fotograma\n",
    "if not ret:\n",
    "    print(\"Error al leer el video.\")\n",
    "    cap.release()\n",
    "    exit()\n",
    "\n",
    "# Mostrar el primer fotograma para seleccionar colores\n",
    "cv2.imshow(\"Selecciona un punto del parqué y un punto de la zona.\", frame)\n",
    "cv2.setMouseCallback(\"Selecciona un punto del parqué y un punto de la zona.\", get_color)\n",
    "\n",
    "print(\"1. Haz clic en el parquet para seleccionar un color.\")\n",
    "print(\"2. Haz clic en la zona bajo la canasta para seleccionar otro color.\")\n",
    "\n",
    "\n",
    "# Esperar hasta que el usuario seleccione dos colores\n",
    "while len(selected_colors) < 2:\n",
    "    cv2.waitKey(1)\n",
    "\n",
    "# Convertir los colores seleccionados a espacio HSV\n",
    "selected_colors_hsv = [cv2.cvtColor(np.uint8([[color]]), cv2.COLOR_BGR2HSV)[0][0] for color in selected_colors]\n",
    "\n",
    "# Crear máscaras para cada color seleccionado\n",
    "masks = []\n",
    "for color_hsv in selected_colors_hsv:\n",
    "    lower_bound_hsv = np.clip(color_hsv - [10, 50, 50], 0, 255)\n",
    "    upper_bound_hsv = np.clip(color_hsv + [10, 50, 50], 0, 255)\n",
    "\n",
    "    frame_hsv = cv2.cvtColor(frame, cv2.COLOR_BGR2HSV)\n",
    "    mask = cv2.inRange(frame_hsv, lower_bound_hsv, upper_bound_hsv)\n",
    "    masks.append(mask)\n",
    "\n",
    "# Combinar las máscaras\n",
    "combined_mask = cv2.bitwise_or(masks[0], masks[1])\n",
    "\n",
    "# Invertir la máscara combinada y aplicar para eliminar las áreas seleccionadas\n",
    "mask_inv = cv2.bitwise_not(combined_mask)\n",
    "masked_frame = cv2.bitwise_and(frame, frame, mask=mask_inv)\n",
    "\n",
    "# Mostrar los resultados\n",
    "cv2.imshow(\"Original\", frame)\n",
    "cv2.imshow(\"Parque y zona eliminadas\", masked_frame)\n",
    "\n",
    "cv2.waitKey(0)\n",
    "cv2.destroyAllWindows()\n",
    "cap.release()\n"
   ]
  }
 ],
 "metadata": {
  "kernelspec": {
   "display_name": "BCT",
   "language": "python",
   "name": "python3"
  },
  "language_info": {
   "codemirror_mode": {
    "name": "ipython",
    "version": 3
   },
   "file_extension": ".py",
   "mimetype": "text/x-python",
   "name": "python",
   "nbconvert_exporter": "python",
   "pygments_lexer": "ipython3",
   "version": "3.12.1"
  }
 },
 "nbformat": 4,
 "nbformat_minor": 2
}
